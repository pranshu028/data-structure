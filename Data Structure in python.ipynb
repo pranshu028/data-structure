{
  "metadata": {
    "kernelspec": {
      "name": "python",
      "display_name": "Python (Pyodide)",
      "language": "python"
    },
    "language_info": {
      "codemirror_mode": {
        "name": "python",
        "version": 3
      },
      "file_extension": ".py",
      "mimetype": "text/x-python",
      "name": "python",
      "nbconvert_exporter": "python",
      "pygments_lexer": "ipython3",
      "version": "3.8"
    }
  },
  "nbformat_minor": 4,
  "nbformat": 4,
  "cells": [
    {
      "cell_type": "code",
      "source": "# 1 Write a code to reverse a string.",
      "metadata": {
        "trusted": true
      },
      "outputs": [],
      "execution_count": null
    },
    {
      "cell_type": "code",
      "source": "def reverse_string(s):\n    return s[::-1]\n\n# Example usage\nstring = \"Hello, World!\"\nreversed_string = reverse_string(string)\nprint(f\"Original string: {string}\")\nprint(f\"Reversed string: {reversed_string}\")",
      "metadata": {
        "trusted": true
      },
      "outputs": [
        {
          "name": "stdout",
          "text": "Original string: Hello, World!\nReversed string: !dlroW ,olleH\n",
          "output_type": "stream"
        }
      ],
      "execution_count": 1
    },
    {
      "cell_type": "code",
      "source": "# 2 rite a code to count the number of vowels in a string.",
      "metadata": {
        "trusted": true
      },
      "outputs": [],
      "execution_count": null
    },
    {
      "cell_type": "code",
      "source": "def count_vowels(s):\n    vowels = 'aeiouAEIOU'\n    count = sum(1 for char in s if char in vowels)\n    return count\n\n# Example usage\nstring = \"Hello, World!\"\nvowel_count = count_vowels(string)\nprint(f\"The number of vowels in '{string}' is {vowel_count}\")",
      "metadata": {
        "trusted": true
      },
      "outputs": [
        {
          "name": "stdout",
          "text": "The number of vowels in 'Hello, World!' is 3\n",
          "output_type": "stream"
        }
      ],
      "execution_count": 2
    },
    {
      "cell_type": "code",
      "source": "# 3 Write a code to check if a given string is a palindrome or not.",
      "metadata": {
        "trusted": true
      },
      "outputs": [],
      "execution_count": null
    },
    {
      "cell_type": "code",
      "source": "def is_palindrome(s):\n    # Remove spaces and convert to lowercase for uniformity\n    clean_s = ''.join(e for e in s if e.isalnum()).lower()\n    return clean_s == clean_s[::-1]\n\n# Example usage\nstring = \"A man, a plan, a canal, Panama!\"\nif is_palindrome(string):\n    print(f\"'{string}' is a palindrome.\")\nelse:\n    print(f\"'{string}' is not a palindrome.\")",
      "metadata": {
        "trusted": true
      },
      "outputs": [
        {
          "name": "stdout",
          "text": "'A man, a plan, a canal, Panama!' is a palindrome.\n",
          "output_type": "stream"
        }
      ],
      "execution_count": 3
    },
    {
      "cell_type": "code",
      "source": "# 4 rite a code to check if two given strings are anagrams of each other.",
      "metadata": {
        "trusted": true
      },
      "outputs": [],
      "execution_count": null
    },
    {
      "cell_type": "code",
      "source": "def are_anagrams(s1, s2):\n    # Remove spaces and convert to lowercase for uniformity\n    s1_clean = ''.join(e for e in s1 if e.isalnum()).lower()\n    s2_clean = ''.join(e for e in s2 if e.isalnum()).lower()\n\n    # Check if sorted versions of the strings are equal\n    return sorted(s1_clean) == sorted(s2_clean)\n\n# Example usage\nstring1 = \"Listen\"\nstring2 = \"Silent\"\nif are_anagrams(string1, string2):\n    print(f\"'{string1}' and '{string2}' are anagrams.\")\nelse:\n    print(f\"'{string1}' and '{string2}' are not anagrams.\")",
      "metadata": {
        "trusted": true
      },
      "outputs": [
        {
          "name": "stdout",
          "text": "'Listen' and 'Silent' are anagrams.\n",
          "output_type": "stream"
        }
      ],
      "execution_count": 5
    },
    {
      "cell_type": "code",
      "source": "# 5 Write a code to find all occurrences of a given substring within another string.",
      "metadata": {
        "trusted": true
      },
      "outputs": [],
      "execution_count": null
    },
    {
      "cell_type": "code",
      "source": "def find_all_occurrences(main_string, substring):\n    start = 0\n    occurrences = []\n\n    while True:\n        start = main_string.find(substring, start)\n        if start == -1:\n            break\n        occurrences.append(start)\n        start += len(substring)  # Move past the last found substring\n\n    return occurrences\n\n# Example usage\nmain_string = \"This is a test string. Testing string is fun!\"\nsubstring = \"is\"\npositions = find_all_occurrences(main_string, substring)\nprint(f\"Occurrences of '{substring}' in '{main_string}': {positions}\")",
      "metadata": {
        "trusted": true
      },
      "outputs": [
        {
          "name": "stdout",
          "text": "Occurrences of 'is' in 'This is a test string. Testing string is fun!': [2, 5, 38]\n",
          "output_type": "stream"
        }
      ],
      "execution_count": 6
    },
    {
      "cell_type": "code",
      "source": "# 6 Write a code to perform basic string compression using the counts of repeated characters.",
      "metadata": {
        "trusted": true
      },
      "outputs": [],
      "execution_count": null
    },
    {
      "cell_type": "code",
      "source": "\ndef compress_string(s):\n    if not s:\n        return \"\"\n\n    compressed = []\n    count = 1\n\n    for i in range(1, len(s)):\n        if s[i] == s[i - 1]:\n            count += 1\n        else:\n            compressed.append(s[i - 1] + str(count))\n            count = 1\n\n    # Append the last character and its count\n    compressed.append(s[-1] + str(count))\n\n    compressed_string = ''.join(compressed)\n    return compressed_string if len(compressed_string) < len(s) else s\n\n# Example usage\nstring = \"aaabbbbccccc\"\ncompressed_string = compress_string(string)\nprint(f\"Original string: {string}\")\nprint(f\"Compressed string: {compressed_string}\")",
      "metadata": {
        "trusted": true
      },
      "outputs": [
        {
          "name": "stdout",
          "text": "Original string: aaabbbbccccc\nCompressed string: a3b4c5\n",
          "output_type": "stream"
        }
      ],
      "execution_count": 7
    },
    {
      "cell_type": "code",
      "source": "# 7 Write a code to determine if a string has all unique characters.",
      "metadata": {
        "trusted": true
      },
      "outputs": [],
      "execution_count": null
    },
    {
      "cell_type": "code",
      "source": "def has_unique_characters(s):\n    # Using a set to track unique characters\n    char_set = set()\n    \n    for char in s:\n        if char in char_set:\n            return False\n        char_set.add(char)\n    \n    return True\n\n# Example usage\nstring = \"abcdefg\"\nif has_unique_characters(string):\n    print(f\"The string '{string}' has all unique characters.\")\nelse:\n    print(f\"The string '{string}' does not have all unique characters.\")",
      "metadata": {
        "trusted": true
      },
      "outputs": [
        {
          "name": "stdout",
          "text": "The string 'abcdefg' has all unique characters.\n",
          "output_type": "stream"
        }
      ],
      "execution_count": 8
    },
    {
      "cell_type": "code",
      "source": "# 8 rite a code to convert a given string to uppercase or lowercase.",
      "metadata": {
        "trusted": true
      },
      "outputs": [],
      "execution_count": null
    },
    {
      "cell_type": "code",
      "source": "Convert to Uppercase:\ndef to_uppercase(s):\n    return s.upper()\n\n# Example usage\nstring = \"Hello, World!\"\nuppercase_string = to_uppercase(string)\nprint(f\"Original string: {string}\")\nprint(f\"Uppercase string: {uppercase_string}\")\n\nConvert to Lowercase:\ndef to_lowercase(s):\n    return s.lower()\n\n# Example usage\nstring = \"Hello, World!\"\nlowercase_string = to_lowercase(string)\nprint(f\"Original string: {string}\")\nprint(f\"Lowercase string: {lowercase_string}\")",
      "metadata": {
        "trusted": true
      },
      "outputs": [
        {
          "ename": "<class 'SyntaxError'>",
          "evalue": "invalid syntax (<ipython-input-10-6ce5fb25a753>, line 1)",
          "traceback": [
            "\u001b[0;36m  Cell \u001b[0;32mIn[10], line 1\u001b[0;36m\u001b[0m\n\u001b[0;31m    Convert to Uppercase:\u001b[0m\n\u001b[0m            ^\u001b[0m\n\u001b[0;31mSyntaxError\u001b[0m\u001b[0;31m:\u001b[0m invalid syntax\n"
          ],
          "output_type": "error"
        }
      ],
      "execution_count": 10
    },
    {
      "cell_type": "code",
      "source": "# 9 Write a code to count the number of words in a string.",
      "metadata": {
        "trusted": true
      },
      "outputs": [],
      "execution_count": null
    },
    {
      "cell_type": "code",
      "source": "def count_words(s):\n    words = s.split()\n    return len(words)\n\n# Example usage\nstring = \"Hello, World! Welcome to the world of Python.\"\nword_count = count_words(string)\nprint(f\"The number of words in the string is: {word_count}\")",
      "metadata": {
        "trusted": true
      },
      "outputs": [
        {
          "name": "stdout",
          "text": "The number of words in the string is: 8\n",
          "output_type": "stream"
        }
      ],
      "execution_count": 11
    },
    {
      "cell_type": "code",
      "source": "# 10. Write a code to concatenate two strings without using the + operator.",
      "metadata": {
        "trusted": true
      },
      "outputs": [],
      "execution_count": null
    },
    {
      "cell_type": "code",
      "source": "def concatenate_strings(s1, s2):\n    return ''.join([s1, s2])\n\n# Example usage\nstring1 = \"Hello, \"\nstring2 = \"World!\"\nconcatenated_string = concatenate_strings(string1, string2)\nprint(f\"Concatenated string: {concatenated_string}\")",
      "metadata": {
        "trusted": true
      },
      "outputs": [
        {
          "name": "stdout",
          "text": "Concatenated string: Hello, World!\n",
          "output_type": "stream"
        }
      ],
      "execution_count": 12
    },
    {
      "cell_type": "code",
      "source": "# 11 Write a code to remove all occurrences of a specific element from a list.",
      "metadata": {
        "trusted": true
      },
      "outputs": [],
      "execution_count": null
    },
    {
      "cell_type": "code",
      "source": "def remove_element(lst, element):\n    return [x for x in lst if x != element]\n\n# Example usage\noriginal_list = [1, 2, 3, 4, 3, 5, 3, 6]\nelement_to_remove = 3\nnew_list = remove_element(original_list, element_to_remove)\nprint(f\"Original list: {original_list}\")\nprint(f\"List after removing {element_to_remove}: {new_list}\")",
      "metadata": {
        "trusted": true
      },
      "outputs": [
        {
          "name": "stdout",
          "text": "Original list: [1, 2, 3, 4, 3, 5, 3, 6]\nList after removing 3: [1, 2, 4, 5, 6]\n",
          "output_type": "stream"
        }
      ],
      "execution_count": 13
    },
    {
      "cell_type": "code",
      "source": "# 12 implement a code to find the second largest number in a given list of integers. ",
      "metadata": {
        "trusted": true
      },
      "outputs": [],
      "execution_count": null
    },
    {
      "cell_type": "code",
      "source": "def find_second_largest(numbers):\n    if len(numbers) < 2:\n        return None  # Not enough elements for a second largest\n\n    first_largest = second_largest = float('-inf')\n\n    for num in numbers:\n        if num > first_largest:\n            second_largest = first_largest\n            first_largest = num\n        elif first_largest > num > second_largest:\n            second_largest = num\n\n    return second_largest if second_largest != float('-inf') else None\n\n# Example usage\nnumbers = [10, 20, 4, 45, 99, 99]\nsecond_largest = find_second_largest(numbers)\nif second_largest is not None:\n    print(f\"The second largest number in the list is: {second_largest}\")\nelse:\n    print(\"The list does not have a second largest number.\")",
      "metadata": {
        "trusted": true
      },
      "outputs": [
        {
          "name": "stdout",
          "text": "The second largest number in the list is: 45\n",
          "output_type": "stream"
        }
      ],
      "execution_count": 14
    },
    {
      "cell_type": "code",
      "source": "# 13 Create a code to count the occurrences of each element in a list and return a dictionary with elements as keys and their counts as values",
      "metadata": {
        "trusted": true
      },
      "outputs": [],
      "execution_count": null
    },
    {
      "cell_type": "code",
      "source": "def count_occurrences(lst):\n    counts = {}\n    for element in lst:\n        if element in counts:\n            counts[element] += 1\n        else:\n            counts[element] = 1\n    return counts\n\n# Example usage\nnumbers = [1, 2, 2, 3, 3, 3, 4, 4, 4, 4]\nelement_counts = count_occurrences(numbers)\nprint(f\"Element counts: {element_counts}\")",
      "metadata": {
        "trusted": true
      },
      "outputs": [
        {
          "name": "stdout",
          "text": "Element counts: {1: 1, 2: 2, 3: 3, 4: 4}\n",
          "output_type": "stream"
        }
      ],
      "execution_count": 15
    },
    {
      "cell_type": "code",
      "source": "# 14. Write a code to reverse a list in-place without using any built-in reverse functions. ",
      "metadata": {
        "trusted": true
      },
      "outputs": [],
      "execution_count": null
    },
    {
      "cell_type": "code",
      "source": "def reverse_list_in_place(lst):\n    left = 0\n    right = len(lst) - 1\n\n    while left < right:\n        # Swap the elements at the left and right indices\n        lst[left], lst[right] = lst[right], lst[left]\n        # Move the indices towards the center\n        left += 1\n        right -= 1\n\n# Example usage\nnumbers = [1, 2, 3, 4, 5]\nreverse_list_in_place(numbers)\nprint(f\"Reversed list: {numbers}\")",
      "metadata": {
        "trusted": true
      },
      "outputs": [
        {
          "name": "stdout",
          "text": "Reversed list: [5, 4, 3, 2, 1]\n",
          "output_type": "stream"
        }
      ],
      "execution_count": 16
    },
    {
      "cell_type": "code",
      "source": "# 15. Implement a code to find and remove duplicates from a list while preserving the original order of elements.",
      "metadata": {
        "trusted": true
      },
      "outputs": [],
      "execution_count": null
    },
    {
      "cell_type": "code",
      "source": "def remove_duplicates(lst):\n    seen = set()\n    result = []\n\n    for element in lst:\n        if element not in seen:\n            seen.add(element)\n            result.append(element)\n\n    return result\n\n# Example usage\noriginal_list = [1, 2, 2, 3, 4, 4, 5, 1, 6, 3]\nnew_list = remove_duplicates(original_list)\nprint(f\"Original list: {original_list}\")\nprint(f\"List after removing duplicates: {new_list}\")",
      "metadata": {
        "trusted": true
      },
      "outputs": [
        {
          "name": "stdout",
          "text": "Original list: [1, 2, 2, 3, 4, 4, 5, 1, 6, 3]\nList after removing duplicates: [1, 2, 3, 4, 5, 6]\n",
          "output_type": "stream"
        }
      ],
      "execution_count": 17
    },
    {
      "cell_type": "code",
      "source": "# 16 Create a code to check if a given list is sorted (either in ascending or descending order) or not.",
      "metadata": {
        "trusted": true
      },
      "outputs": [],
      "execution_count": null
    },
    {
      "cell_type": "code",
      "source": "def is_sorted(lst):\n    ascending = all(lst[i] <= lst[i + 1] for i in range(len(lst) - 1))\n    descending = all(lst[i] >= lst[i + 1] for i in range(len(lst) - 1))\n    return ascending or descending\n\n# Example usage\nlist1 = [1, 2, 3, 4, 5]\nlist2 = [5, 4, 3, 2, 1]\nlist3 = [1, 3, 2, 4, 5]\n\nprint(f\"List {list1} is sorted: {is_sorted(list1)}\")\nprint(f\"List {list2} is sorted: {is_sorted(list2)}\")\nprint(f\"List {list3} is sorted: {is_sorted(list3)}\")",
      "metadata": {
        "trusted": true
      },
      "outputs": [
        {
          "name": "stdout",
          "text": "List [1, 2, 3, 4, 5] is sorted: True\nList [5, 4, 3, 2, 1] is sorted: True\nList [1, 3, 2, 4, 5] is sorted: False\n",
          "output_type": "stream"
        }
      ],
      "execution_count": 18
    },
    {
      "cell_type": "code",
      "source": "# 17 Write a code to merge two sorted lists into a single sorted list.",
      "metadata": {
        "trusted": true
      },
      "outputs": [],
      "execution_count": null
    },
    {
      "cell_type": "code",
      "source": "def merge_sorted_lists(list1, list2):\n    merged_list = []\n    i, j = 0, 0\n    \n    # Merge the two lists by comparing elements\n    while i < len(list1) and j < len(list2):\n        if list1[i] < list2[j]:\n            merged_list.append(list1[i])\n            i += 1\n        else:\n            merged_list.append(list2[j])\n            j += 1\n\n    # Append any remaining elements from list1\n    while i < len(list1):\n        merged_list.append(list1[i])\n        i += 1\n\n    # Append any remaining elements from list2\n    while j < len(list2):\n        merged_list.append(list2[j])\n        j += 1\n\n    return merged_list\n\n# Example usage\nsorted_list1 = [1, 3, 5, 7]\nsorted_list2 = [2, 4, 6, 8]\nmerged_list = merge_sorted_lists(sorted_list1, sorted_list2)\nprint(f\"Merged sorted list: {merged_list}\")",
      "metadata": {
        "trusted": true
      },
      "outputs": [
        {
          "name": "stdout",
          "text": "Merged sorted list: [1, 2, 3, 4, 5, 6, 7, 8]\n",
          "output_type": "stream"
        }
      ],
      "execution_count": 19
    },
    {
      "cell_type": "code",
      "source": "# 18. Implement a code to find the intersection of two given list.",
      "metadata": {
        "trusted": true
      },
      "outputs": [],
      "execution_count": null
    },
    {
      "cell_type": "code",
      "source": "def intersection(list1, list2):\n    return [element for element in list1 if element in list2]\n\n# Example usage\nlist1 = [1, 2, 3, 4, 5]\nlist2 = [4, 5, 6, 7, 8]\nintersection_list = intersection(list1, list2)\nprint(f\"Intersection of {list1} and {list2}: {intersection_list}\")",
      "metadata": {
        "trusted": true
      },
      "outputs": [
        {
          "name": "stdout",
          "text": "Intersection of [1, 2, 3, 4, 5] and [4, 5, 6, 7, 8]: [4, 5]\n",
          "output_type": "stream"
        }
      ],
      "execution_count": 20
    },
    {
      "cell_type": "code",
      "source": "# 19. Create a code to find the union of two lists without duplicates.",
      "metadata": {
        "trusted": true
      },
      "outputs": [],
      "execution_count": null
    },
    {
      "cell_type": "code",
      "source": "def union_lists(list1, list2):\n    # Use a set to remove duplicates and get the union\n    union_set = set(list1).union(set(list2))\n    # Convert the set back to a list to maintain the list format\n    return list(union_set)\n\n# Example usage\nlist1 = [1, 2, 3, 4, 5]\nlist2 = [4, 5, 6, 7, 8]\nunion_list = union_lists(list1, list2)\nprint(f\"Union of {list1} and {list2}: {union_list}\")",
      "metadata": {
        "trusted": true
      },
      "outputs": [
        {
          "name": "stdout",
          "text": "Union of [1, 2, 3, 4, 5] and [4, 5, 6, 7, 8]: [1, 2, 3, 4, 5, 6, 7, 8]\n",
          "output_type": "stream"
        }
      ],
      "execution_count": 21
    },
    {
      "cell_type": "code",
      "source": "# 20. Write a code to shuffle a given list randomly without using any built-in shuffle functions.",
      "metadata": {
        "trusted": true
      },
      "outputs": [],
      "execution_count": null
    },
    {
      "cell_type": "code",
      "source": "import random\n\ndef shuffle_list(lst):\n    n = len(lst)\n    for i in range(n - 1, 0, -1):\n        j = random.randint(0, i)\n        lst[i], lst[j] = lst[j], lst[i]\n    return lst\n\n# Example usage\noriginal_list = [1, 2, 3, 4, 5, 6, 7, 8, 9, 10]\nshuffled_list = shuffle_list(original_list.copy())\nprint(f\"Original list: {original_list}\")\nprint(f\"Shuffled list: {shuffled_list}\")",
      "metadata": {
        "trusted": true
      },
      "outputs": [
        {
          "name": "stdout",
          "text": "Original list: [1, 2, 3, 4, 5, 6, 7, 8, 9, 10]\nShuffled list: [9, 6, 5, 3, 2, 8, 1, 4, 7, 10]\n",
          "output_type": "stream"
        }
      ],
      "execution_count": 22
    },
    {
      "cell_type": "code",
      "source": "# 21 Write a code that takes two tuples as input and returns a new tuple containing elements that are common to both input tuple.",
      "metadata": {
        "trusted": true
      },
      "outputs": [],
      "execution_count": null
    },
    {
      "cell_type": "code",
      "source": "def common_elements(tuple1, tuple2):\n    # Convert tuples to sets to find common elements\n    set1 = set(tuple1)\n    set2 = set(tuple2)\n    \n    # Find the intersection of the two sets\n    common_set = set1.intersection(set2)\n    \n    # Convert the common elements back to a tuple\n    return tuple(common_set)\n\n# Example usage\ntuple1 = (1, 2, 3, 4, 5)\ntuple2 = (4, 5, 6, 7, 8)\ncommon_tuple = common_elements(tuple1, tuple2)\nprint(f\"Common elements in {tuple1} and {tuple2}: {common_tuple}\")",
      "metadata": {
        "trusted": true
      },
      "outputs": [
        {
          "name": "stdout",
          "text": "Common elements in (1, 2, 3, 4, 5) and (4, 5, 6, 7, 8): (4, 5)\n",
          "output_type": "stream"
        }
      ],
      "execution_count": 23
    },
    {
      "cell_type": "code",
      "source": "# 22 Create a code that prompts the user to enter two sets of integers separated by commas. Then, print the intersection of these two sets",
      "metadata": {
        "trusted": true
      },
      "outputs": [],
      "execution_count": null
    },
    {
      "cell_type": "code",
      "source": "def get_set_from_input(prompt):\n    return set(map(int, input(prompt).split(',')))\n\ndef main():\n    set1 = get_set_from_input(\"Enter the first set of integers separated by commas: \")\n    set2 = get_set_from_input(\"Enter the second set of integers separated by commas: \")\n    \n    intersection_set = set1.intersection(set2)\n    print(f\"The intersection of the two sets is: {intersection_set}\")\n\nif _name_ == \"_main_\":\n    main()",
      "metadata": {
        "trusted": true
      },
      "outputs": [
        {
          "ename": "<class 'NameError'>",
          "evalue": "name '_name_' is not defined",
          "traceback": [
            "\u001b[0;31m---------------------------------------------------------------------------\u001b[0m",
            "\u001b[0;31mNameError\u001b[0m                                 Traceback (most recent call last)",
            "Cell \u001b[0;32mIn[24], line 11\u001b[0m\n\u001b[1;32m      8\u001b[0m     intersection_set \u001b[38;5;241m=\u001b[39m set1\u001b[38;5;241m.\u001b[39mintersection(set2)\n\u001b[1;32m      9\u001b[0m     \u001b[38;5;28mprint\u001b[39m(\u001b[38;5;124mf\u001b[39m\u001b[38;5;124m\"\u001b[39m\u001b[38;5;124mThe intersection of the two sets is: \u001b[39m\u001b[38;5;132;01m{\u001b[39;00mintersection_set\u001b[38;5;132;01m}\u001b[39;00m\u001b[38;5;124m\"\u001b[39m)\n\u001b[0;32m---> 11\u001b[0m \u001b[38;5;28;01mif\u001b[39;00m \u001b[43m_name_\u001b[49m \u001b[38;5;241m==\u001b[39m \u001b[38;5;124m\"\u001b[39m\u001b[38;5;124m_main_\u001b[39m\u001b[38;5;124m\"\u001b[39m:\n\u001b[1;32m     12\u001b[0m     main()\n",
            "\u001b[0;31mNameError\u001b[0m: name '_name_' is not defined"
          ],
          "output_type": "error"
        }
      ],
      "execution_count": 24
    },
    {
      "cell_type": "code",
      "source": "# 23 Write a code to concatenate two tuples. The function should take two tuples as input and return a new tuple containing elements from both input tuples.",
      "metadata": {
        "trusted": true
      },
      "outputs": [],
      "execution_count": null
    },
    {
      "cell_type": "code",
      "source": "def concatenate_tuples(tuple1, tuple2):\n    return tuple1 + tuple2\n\n# Example usage\ntuple1 = (1, 2, 3)\ntuple2 = (4, 5, 6)\nconcatenated_tuple = concatenate_tuples(tuple1, tuple2)\nprint(f\"Concatenated tuple: {concatenated_tuple}\")",
      "metadata": {
        "trusted": true
      },
      "outputs": [
        {
          "name": "stdout",
          "text": "Concatenated tuple: (1, 2, 3, 4, 5, 6)\n",
          "output_type": "stream"
        }
      ],
      "execution_count": 25
    },
    {
      "cell_type": "code",
      "source": "# 24  Develop a code that prompts the user to input two sets of strings. Then, print the elements that are present in the first set but not in the second set",
      "metadata": {
        "trusted": true
      },
      "outputs": [],
      "execution_count": null
    },
    {
      "cell_type": "code",
      "source": "def get_set_from_input(prompt):\n    return set(input(prompt).split(','))\n\ndef main():\n    set1 = get_set_from_input(\"Enter the first set of strings separated by commas: \")\n    set2 = get_set_from_input(\"Enter the second set of strings separated by commas: \")\n    \n    difference_set = set1 - set2\n    print(f\"Elements in the first set but not in the second set: {difference_set}\")\n\nif _name_ == \"_main_\":\n    main()",
      "metadata": {
        "trusted": true
      },
      "outputs": [
        {
          "ename": "<class 'NameError'>",
          "evalue": "name '_name_' is not defined",
          "traceback": [
            "\u001b[0;31m---------------------------------------------------------------------------\u001b[0m",
            "\u001b[0;31mNameError\u001b[0m                                 Traceback (most recent call last)",
            "Cell \u001b[0;32mIn[26], line 11\u001b[0m\n\u001b[1;32m      8\u001b[0m     difference_set \u001b[38;5;241m=\u001b[39m set1 \u001b[38;5;241m-\u001b[39m set2\n\u001b[1;32m      9\u001b[0m     \u001b[38;5;28mprint\u001b[39m(\u001b[38;5;124mf\u001b[39m\u001b[38;5;124m\"\u001b[39m\u001b[38;5;124mElements in the first set but not in the second set: \u001b[39m\u001b[38;5;132;01m{\u001b[39;00mdifference_set\u001b[38;5;132;01m}\u001b[39;00m\u001b[38;5;124m\"\u001b[39m)\n\u001b[0;32m---> 11\u001b[0m \u001b[38;5;28;01mif\u001b[39;00m \u001b[43m_name_\u001b[49m \u001b[38;5;241m==\u001b[39m \u001b[38;5;124m\"\u001b[39m\u001b[38;5;124m_main_\u001b[39m\u001b[38;5;124m\"\u001b[39m:\n\u001b[1;32m     12\u001b[0m     main()\n",
            "\u001b[0;31mNameError\u001b[0m: name '_name_' is not defined"
          ],
          "output_type": "error"
        }
      ],
      "execution_count": 26
    },
    {
      "cell_type": "code",
      "source": "# 25.  Create a code that takes a tuple and two integers as input. The function should return a new tuple containing elements from the original tuple within the specified range of indices.",
      "metadata": {
        "trusted": true
      },
      "outputs": [],
      "execution_count": null
    },
    {
      "cell_type": "code",
      "source": "def slice_tuple(original_tuple, start_index, end_index):\n    # Return the sliced tuple\n    return original_tuple[start_index:end_index]\n\n# Example usage\noriginal_tuple = (1, 2, 3, 4, 5, 6, 7, 8, 9, 10)\nstart_index = 2\nend_index = 7\nsliced_tuple = slice_tuple(original_tuple, start_index, end_index)\nprint(f\"Original tuple: {original_tuple}\")\nprint(f\"Sliced tuple (from index {start_index} to {end_index}): {sliced_tuple}\")",
      "metadata": {
        "trusted": true
      },
      "outputs": [
        {
          "name": "stdout",
          "text": "Original tuple: (1, 2, 3, 4, 5, 6, 7, 8, 9, 10)\nSliced tuple (from index 2 to 7): (3, 4, 5, 6, 7)\n",
          "output_type": "stream"
        }
      ],
      "execution_count": 27
    },
    {
      "cell_type": "markdown",
      "source": "# 26 Write a code that prompts the user to input two sets of characters. Then, print the union of these two sets.",
      "metadata": {}
    },
    {
      "cell_type": "code",
      "source": "def get_set_from_input(prompt):\n    return set(input(prompt).split(','))\n\ndef main():\n    set1 = get_set_from_input(\"Enter the first set of characters separated by commas: \")\n    set2 = get_set_from_input(\"Enter the second set of characters separated by commas: \")\n    \n    union_set = set1.union(set2)\n    print(f\"The union of the two sets is: {union_set}\")\n\nif _name_ == \"_main_\":\n    main()",
      "metadata": {
        "trusted": true
      },
      "outputs": [
        {
          "ename": "<class 'NameError'>",
          "evalue": "name '_name_' is not defined",
          "traceback": [
            "\u001b[0;31m---------------------------------------------------------------------------\u001b[0m",
            "\u001b[0;31mNameError\u001b[0m                                 Traceback (most recent call last)",
            "Cell \u001b[0;32mIn[28], line 11\u001b[0m\n\u001b[1;32m      8\u001b[0m     union_set \u001b[38;5;241m=\u001b[39m set1\u001b[38;5;241m.\u001b[39munion(set2)\n\u001b[1;32m      9\u001b[0m     \u001b[38;5;28mprint\u001b[39m(\u001b[38;5;124mf\u001b[39m\u001b[38;5;124m\"\u001b[39m\u001b[38;5;124mThe union of the two sets is: \u001b[39m\u001b[38;5;132;01m{\u001b[39;00munion_set\u001b[38;5;132;01m}\u001b[39;00m\u001b[38;5;124m\"\u001b[39m)\n\u001b[0;32m---> 11\u001b[0m \u001b[38;5;28;01mif\u001b[39;00m \u001b[43m_name_\u001b[49m \u001b[38;5;241m==\u001b[39m \u001b[38;5;124m\"\u001b[39m\u001b[38;5;124m_main_\u001b[39m\u001b[38;5;124m\"\u001b[39m:\n\u001b[1;32m     12\u001b[0m     main()\n",
            "\u001b[0;31mNameError\u001b[0m: name '_name_' is not defined"
          ],
          "output_type": "error"
        }
      ],
      "execution_count": 28
    },
    {
      "cell_type": "code",
      "source": "# 27 Develop a code that takes a tuple of integers as input. The function should return the maximum and minimum values from the tuple using tuple unpacking",
      "metadata": {
        "trusted": true
      },
      "outputs": [],
      "execution_count": null
    },
    {
      "cell_type": "code",
      "source": "def find_max_min(t):\n    # Unpack the first element as initial max and min\n    max_val, min_val = t[0], t[0]\n    \n    # Iterate through the tuple to find the max and min values\n    for num in t[1:]:\n        if num > max_val:\n            max_val = num\n        if num < min_val:\n            min_val = num\n    \n    return max_val, min_val\n\n# Example usage\nnumbers = (10, 3, 5, 1, 9, 8)\nmax_value, min_value = find_max_min(numbers)\nprint(f\"Maximum value: {max_value}\")\nprint(f\"Minimum value: {min_value}\")",
      "metadata": {
        "trusted": true
      },
      "outputs": [
        {
          "name": "stdout",
          "text": "Maximum value: 10\nMinimum value: 1\n",
          "output_type": "stream"
        }
      ],
      "execution_count": 29
    },
    {
      "cell_type": "code",
      "source": "# 28 reate a code that defines two sets of integers. Then, print the union, intersection, and difference of these two sets.",
      "metadata": {
        "trusted": true
      },
      "outputs": [],
      "execution_count": null
    },
    {
      "cell_type": "code",
      "source": "def print_set_operations(set1, set2):\n    union_set = set1.union(set2)\n    intersection_set = set1.intersection(set2)\n    difference_set = set1.difference(set2)\n\n    print(f\"Set 1: {set1}\")\n    print(f\"Set 2: {set2}\")\n    print(f\"Union: {union_set}\")\n    print(f\"Intersection: {intersection_set}\")\n    print(f\"Difference (Set 1 - Set 2): {difference_set}\")\n\n# Example usage\nset1 = {1, 2, 3, 4, 5}\nset2 = {4, 5, 6, 7, 8}\nprint_set_operations(set1, set2)",
      "metadata": {
        "trusted": true
      },
      "outputs": [
        {
          "name": "stdout",
          "text": "Set 1: {1, 2, 3, 4, 5}\nSet 2: {4, 5, 6, 7, 8}\nUnion: {1, 2, 3, 4, 5, 6, 7, 8}\nIntersection: {4, 5}\nDifference (Set 1 - Set 2): {1, 2, 3}\n",
          "output_type": "stream"
        }
      ],
      "execution_count": 30
    },
    {
      "cell_type": "code",
      "source": "# 29. Write a code that takes a tuple and an element as input. The function should return the count of occurrences of the given element in the tuple.",
      "metadata": {
        "trusted": true
      },
      "outputs": [],
      "execution_count": null
    },
    {
      "cell_type": "code",
      "source": "def count_occurrences(t, element):\n    return t.count(element)\n\n# Example usage\ntuple_data = (1, 2, 3, 4, 2, 5, 2, 6, 2, 7)\nelement_to_count = 2\ncount = count_occurrences(tuple_data, element_to_count)\nprint(f\"The element {element_to_count} appears {count} times in the tuple.\")",
      "metadata": {
        "trusted": true
      },
      "outputs": [
        {
          "name": "stdout",
          "text": "The element 2 appears 4 times in the tuple.\n",
          "output_type": "stream"
        }
      ],
      "execution_count": 31
    },
    {
      "cell_type": "code",
      "source": "# 30 evelop a code that prompts the user to input two sets of strings. Then, print the symmetric difference of these two sets.",
      "metadata": {
        "trusted": true
      },
      "outputs": [],
      "execution_count": null
    },
    {
      "cell_type": "code",
      "source": "def get_set_from_input(prompt):\n    return set(input(prompt).split(','))\n\ndef main():\n    set1 = get_set_from_input(\"Enter the first set of strings separated by commas: \")\n    set2 = get_set_from_input(\"Enter the second set of strings separated by commas: \")\n    \n    symmetric_difference_set = set1.symmetric_difference(set2)\n    print(f\"The symmetric difference of the two sets is: {symmetric_difference_set}\")\n\nif _name_ == \"_main_\":\n    main()",
      "metadata": {
        "trusted": true
      },
      "outputs": [
        {
          "ename": "<class 'NameError'>",
          "evalue": "name '_name_' is not defined",
          "traceback": [
            "\u001b[0;31m---------------------------------------------------------------------------\u001b[0m",
            "\u001b[0;31mNameError\u001b[0m                                 Traceback (most recent call last)",
            "Cell \u001b[0;32mIn[32], line 11\u001b[0m\n\u001b[1;32m      8\u001b[0m     symmetric_difference_set \u001b[38;5;241m=\u001b[39m set1\u001b[38;5;241m.\u001b[39msymmetric_difference(set2)\n\u001b[1;32m      9\u001b[0m     \u001b[38;5;28mprint\u001b[39m(\u001b[38;5;124mf\u001b[39m\u001b[38;5;124m\"\u001b[39m\u001b[38;5;124mThe symmetric difference of the two sets is: \u001b[39m\u001b[38;5;132;01m{\u001b[39;00msymmetric_difference_set\u001b[38;5;132;01m}\u001b[39;00m\u001b[38;5;124m\"\u001b[39m)\n\u001b[0;32m---> 11\u001b[0m \u001b[38;5;28;01mif\u001b[39;00m \u001b[43m_name_\u001b[49m \u001b[38;5;241m==\u001b[39m \u001b[38;5;124m\"\u001b[39m\u001b[38;5;124m_main_\u001b[39m\u001b[38;5;124m\"\u001b[39m:\n\u001b[1;32m     12\u001b[0m     main()\n",
            "\u001b[0;31mNameError\u001b[0m: name '_name_' is not defined"
          ],
          "output_type": "error"
        }
      ],
      "execution_count": 32
    },
    {
      "cell_type": "code",
      "source": "# 31 Write a code that takes a list of words as input and returns a dictionary where the keys are unique words and the values are the frequencies of those words in the input list&",
      "metadata": {
        "trusted": true
      },
      "outputs": [],
      "execution_count": null
    },
    {
      "cell_type": "code",
      "source": "def word_frequencies(word_list):\n    frequency_dict = {}\n    for word in word_list:\n        if word in frequency_dict:\n            frequency_dict[word] += 1\n        else:\n            frequency_dict[word] = 1\n    return frequency_dict\n\n# Example usage\nwords = [\"apple\", \"banana\", \"apple\", \"orange\", \"banana\", \"apple\"]\nfrequencies = word_frequencies(words)\nprint(f\"Word frequencies: {frequencies}\")",
      "metadata": {
        "trusted": true
      },
      "outputs": [
        {
          "name": "stdout",
          "text": "Word frequencies: {'apple': 3, 'banana': 2, 'orange': 1}\n",
          "output_type": "stream"
        }
      ],
      "execution_count": 33
    },
    {
      "cell_type": "code",
      "source": "# 32 Write a code that takes two dictionaries as input and merges them into a single dictionary. If there are common keys, the values should be added together.",
      "metadata": {
        "trusted": true
      },
      "outputs": [],
      "execution_count": null
    },
    {
      "cell_type": "code",
      "source": "def merge_dictionaries(dict1, dict2):\n    merged_dict = dict1.copy()  # Start with a copy of the first dictionary\n    for key, value in dict2.items():\n        if key in merged_dict:\n            merged_dict[key] += value  # Add values for common keys\n        else:\n            merged_dict[key] = value  # Add new key-value pairs\n    return merged_dict\n\n# Example usage\ndict1 = {'a': 1, 'b': 2, 'c': 3}\ndict2 = {'b': 3, 'c': 4, 'd': 5}\nmerged_dict = merge_dictionaries(dict1, dict2)\nprint(f\"Merged dictionary: {merged_dict}\")",
      "metadata": {
        "trusted": true
      },
      "outputs": [
        {
          "name": "stdout",
          "text": "Merged dictionary: {'a': 1, 'b': 5, 'c': 7, 'd': 5}\n",
          "output_type": "stream"
        }
      ],
      "execution_count": 34
    },
    {
      "cell_type": "code",
      "source": "# 33 Write a code to access a value in a nested dictionary. The function should take the dictionary and a list of keys as input, and return the corresponding value. If any of the keys do not exist in the dictionary, the function should return None.",
      "metadata": {
        "trusted": true
      },
      "outputs": [],
      "execution_count": null
    },
    {
      "cell_type": "code",
      "source": "def get_nested_value(d, keys):\n    current_value = d\n    try:\n        for key in keys:\n            current_value = current_value[key]\n        return current_value\n    except KeyError:\n        return None\n\n# Example usage\nnested_dict = {\n    'a': {\n        'b': {\n            'c': 42\n        }\n    }\n}\nkeys = ['a', 'b', 'c']\nvalue = get_nested_value(nested_dict, keys)\nprint(f\"The value for keys {keys} is: {value}\")\n\nkeys = ['a', 'b', 'd']\nvalue = get_nested_value(nested_dict, keys)\nprint(f\"The value for keys {keys} is: {value}\")",
      "metadata": {
        "trusted": true
      },
      "outputs": [
        {
          "name": "stdout",
          "text": "The value for keys ['a', 'b', 'c'] is: 42\nThe value for keys ['a', 'b', 'd'] is: None\n",
          "output_type": "stream"
        }
      ],
      "execution_count": 35
    },
    {
      "cell_type": "code",
      "source": "# 34.  Write a code that takes a dictionary as input and returns a sorted version of it based on the values. You can choose whether to sort in ascending or descending order",
      "metadata": {
        "trusted": true
      },
      "outputs": [],
      "execution_count": null
    },
    {
      "cell_type": "code",
      "source": "def sort_dict_by_values(d, ascending=True):\n    # Sort the dictionary by values\n    sorted_items = sorted(d.items(), key=lambda item: item[1], reverse=not ascending)\n    # Convert the sorted items back to a dictionary\n    return dict(sorted_items)\n\n# Example usage\noriginal_dict = {'a': 3, 'b': 1, 'c': 2, 'd': 4}\nascending_sorted_dict = sort_dict_by_values(original_dict, ascending=True)\ndescending_sorted_dict = sort_dict_by_values(original_dict, ascending=False)\n\nprint(f\"Original dictionary: {original_dict}\")\nprint(f\"Dictionary sorted in ascending order: {ascending_sorted_dict}\")\nprint(f\"Dictionary sorted in descending order: {descending_sorted_dict}\")",
      "metadata": {
        "trusted": true
      },
      "outputs": [
        {
          "name": "stdout",
          "text": "Original dictionary: {'a': 3, 'b': 1, 'c': 2, 'd': 4}\nDictionary sorted in ascending order: {'b': 1, 'c': 2, 'a': 3, 'd': 4}\nDictionary sorted in descending order: {'d': 4, 'a': 3, 'c': 2, 'b': 1}\n",
          "output_type": "stream"
        }
      ],
      "execution_count": 36
    },
    {
      "cell_type": "code",
      "source": "# 35.  Write a code that inverts a dictionary, swapping keys and values. Ensure that the inverted dictionary correctly handles cases where multiple keys have the same value by storing the keys as a list in the inverted dictionary.",
      "metadata": {
        "trusted": true
      },
      "outputs": [],
      "execution_count": null
    },
    {
      "cell_type": "code",
      "source": "def invert_dictionary(d):\n    inverted_dict = {}\n    for key, value in d.items():\n        if value in inverted_dict:\n            inverted_dict[value].append(key)\n        else:\n            inverted_dict[value] = [key]\n    return inverted_dict\n\n# Example usage\noriginal_dict = {'a': 1, 'b': 2, 'c': 1, 'd': 3}\ninverted_dict = invert_dictionary(original_dict)\nprint(f\"Original dictionary: {original_dict}\")\nprint(f\"Inverted dictionary: {inverted_dict}\")",
      "metadata": {
        "trusted": true
      },
      "outputs": [
        {
          "name": "stdout",
          "text": "Original dictionary: {'a': 1, 'b': 2, 'c': 1, 'd': 3}\nInverted dictionary: {1: ['a', 'c'], 2: ['b'], 3: ['d']}\n",
          "output_type": "stream"
        }
      ],
      "execution_count": 37
    },
    {
      "cell_type": "code",
      "source": "",
      "metadata": {
        "trusted": true
      },
      "outputs": [],
      "execution_count": null
    }
  ]
}